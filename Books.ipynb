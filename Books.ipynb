{
 "cells": [
  {
   "cell_type": "markdown",
   "id": "3408c8a3-6319-419e-ba1b-921bff2edbe1",
   "metadata": {},
   "source": [
    "# Top Books of different genres"
   ]
  },
  {
   "cell_type": "markdown",
   "id": "8dafb8dd-b098-451b-b254-52d2c3949b8d",
   "metadata": {},
   "source": [
    "## Picked a website and describe my objective\n",
    "\n",
    "  - Browsed through different sites and picked on to scrape. Checked the \"Project Ideas\" section for inspiration.\n",
    "\n",
    "\n",
    "  - Identify the information I'd like to scrape from the site. Decided the format of the output CSV file.\n",
    "\n",
    "\n",
    "  - Summarize your project idea and outline your strategy in a Jupyter notebook. Use the \"New\" button above."
   ]
  },
  {
   "cell_type": "markdown",
   "id": "5fe09915-4d6d-42c9-a8b3-fe4827f8ecbd",
   "metadata": {},
   "source": [
    "## Use the requests library to download web pages\n",
    "\n",
    "  - Inspected the website's HTML source and identified the right URLs to download.\n",
    "\n",
    "\n",
    "  - Downloaded and saved web pages locally using the requests library.\n",
    "\n",
    "\n",
    "  - Created a function to automate downloading for different topics/search queries."
   ]
  },
  {
   "cell_type": "code",
   "execution_count": null,
   "id": "66acd57d-a84b-4528-91cb-6f836dee6a85",
   "metadata": {},
   "outputs": [],
   "source": [
    "!pip install requests --upgrade --quiet"
   ]
  },
  {
   "cell_type": "code",
   "execution_count": null,
   "id": "600d73d5-a678-4ac5-96fd-12022d917775",
   "metadata": {},
   "outputs": [],
   "source": [
    "import requests"
   ]
  },
  {
   "cell_type": "code",
   "execution_count": null,
   "id": "954926b6-af6f-4663-8ff6-857018de6579",
   "metadata": {},
   "outputs": [],
   "source": [
    "books_url = 'http://books.toscrape.com'"
   ]
  },
  {
   "cell_type": "code",
   "execution_count": null,
   "id": "80d99321-6aa6-48d5-abcc-5fa13119a5ec",
   "metadata": {},
   "outputs": [],
   "source": [
    "response = requests.get(books_url)"
   ]
  },
  {
   "cell_type": "code",
   "execution_count": null,
   "id": "5f3e9a1e-ea6e-4c08-bb88-a1b591d9c6c0",
   "metadata": {},
   "outputs": [],
   "source": [
    "response.status_code"
   ]
  },
  {
   "cell_type": "code",
   "execution_count": null,
   "id": "048a01f1-c4cf-404b-9d6d-2c6e1a2fb805",
   "metadata": {},
   "outputs": [],
   "source": [
    "len(response.text)"
   ]
  },
  {
   "cell_type": "code",
   "execution_count": null,
   "id": "57bce7cb-b031-47a2-ae09-0aed17f40794",
   "metadata": {},
   "outputs": [],
   "source": [
    "page_contents = response.text"
   ]
  },
  {
   "cell_type": "code",
   "execution_count": null,
   "id": "f96cdac2-db85-4b56-888c-c2b16dfe33fb",
   "metadata": {},
   "outputs": [],
   "source": [
    "page_contents[:1000]"
   ]
  },
  {
   "cell_type": "code",
   "execution_count": null,
   "id": "27021844-ab27-4d9e-95a1-50a7b148f9d0",
   "metadata": {},
   "outputs": [],
   "source": [
    "with open('webpage.html', 'w') as f:\n",
    "    f.write(page_contents)"
   ]
  },
  {
   "cell_type": "markdown",
   "id": "54e605e3-8554-4770-8a47-d78cd491f132",
   "metadata": {},
   "source": [
    "## Used Beautiful Soup to parse and extract information\n",
    "\n",
    "  - Parsed and explored the structure of downloaded web pages using Beautiful Soup.\n",
    "\n",
    "\n",
    "  - Used the right properties and methods to extract the required information.\n",
    "\n",
    "\n",
    "  - Created functions to extract from the page into lists and dictionaries.\r\n",
    "\r",
    "  \n",
    "\r\n",
    "- (Optional) Used a REST API to acquire additional information if required.\n"
   ]
  },
  {
   "cell_type": "code",
   "execution_count": null,
   "id": "6a668366-845b-4d55-a20c-de91ea57e20d",
   "metadata": {},
   "outputs": [],
   "source": [
    "!pip install beautifulsoup4 --upgrade --quiet"
   ]
  },
  {
   "cell_type": "code",
   "execution_count": null,
   "id": "790e29c4-fb4f-47f8-939a-ec90989d309d",
   "metadata": {},
   "outputs": [],
   "source": [
    "from bs4 import BeautifulSoup"
   ]
  },
  {
   "cell_type": "code",
   "execution_count": null,
   "id": "11205a73-bb65-4884-81ad-cb97a51a3744",
   "metadata": {},
   "outputs": [],
   "source": [
    "doc = BeautifulSoup(page_contents,'html.parser')"
   ]
  },
  {
   "cell_type": "code",
   "execution_count": null,
   "id": "79d7608f-919b-4177-b082-9f99265cdc60",
   "metadata": {},
   "outputs": [],
   "source": [
    "a_tags = doc.find_all('a')"
   ]
  },
  {
   "cell_type": "code",
   "execution_count": null,
   "id": "41989196-beaf-4ba5-af80-dfbb4324d6fe",
   "metadata": {},
   "outputs": [],
   "source": [
    "len(a_tags)"
   ]
  },
  {
   "cell_type": "code",
   "execution_count": null,
   "id": "0431db28-0fcf-4a49-8889-824a0f9808da",
   "metadata": {},
   "outputs": [],
   "source": [
    "a_tags[:50]"
   ]
  },
  {
   "cell_type": "code",
   "execution_count": null,
   "id": "4f6e7d4b-3643-49bb-ad03-2ee4ce03f0d2",
   "metadata": {},
   "outputs": [],
   "source": [
    "topic_url = \"http://books.toscrape.com/\" + a_tags[0]['href']\n",
    "print(topic_url)"
   ]
  },
  {
   "cell_type": "code",
   "execution_count": null,
   "id": "a248b02f-684c-4d16-b7ac-f9496c226518",
   "metadata": {},
   "outputs": [],
   "source": [
    "topic_titles = []\n",
    "\n",
    "for tag in a_tags:\n",
    "    topic_titles.append(tag.text.strip())\n",
    "print(topic_titles[slice(50)])"
   ]
  },
  {
   "cell_type": "code",
   "execution_count": null,
   "id": "4ac8ec82-0550-48e1-8c72-1f9d5e0eaff9",
   "metadata": {},
   "outputs": [],
   "source": [
    "topic_urls = []\n",
    "\n",
    "for tag in a_tags:\n",
    "    topic_urls.append(tag['href'])\n",
    "print(topic_urls[slice(50)])"
   ]
  },
  {
   "cell_type": "code",
   "execution_count": null,
   "id": "156a9f1e-4f3b-4773-b9b8-6a2218e8e28c",
   "metadata": {},
   "outputs": [],
   "source": [
    "!pip install pandas --quiet"
   ]
  },
  {
   "cell_type": "code",
   "execution_count": null,
   "id": "6096e27d-28bc-428e-8e0f-6e240f0fd313",
   "metadata": {},
   "outputs": [],
   "source": [
    "import pandas as pd"
   ]
  },
  {
   "cell_type": "code",
   "execution_count": null,
   "id": "67ff7815-d249-4f0b-a6c7-57c5e4d0ff6d",
   "metadata": {},
   "outputs": [],
   "source": [
    "topics_dict = {\n",
    "    'title' : topic_titles[slice(50)],\n",
    "    'url' : topic_urls[slice(50)]\n",
    "}"
   ]
  },
  {
   "cell_type": "code",
   "execution_count": null,
   "id": "e3dfe985-c666-4bfc-abb9-651eb0248535",
   "metadata": {},
   "outputs": [],
   "source": [
    "topics_df = pd.DataFrame(topics_dict)"
   ]
  },
  {
   "cell_type": "code",
   "execution_count": null,
   "id": "d14a7078-e848-40e3-8f51-444de751bd87",
   "metadata": {},
   "outputs": [],
   "source": [
    "topics_df"
   ]
  },
  {
   "cell_type": "markdown",
   "id": "af5846e4-e8b6-4441-9405-16bcb99e10e9",
   "metadata": {},
   "source": [
    "## Created  CSV file(s) with the extracted information\n",
    "\n",
    "- Created functions for the end-to-end process of downloading, parsing, and saving CSVs.\n",
    "\n",
    "\n",
    "- Executed the function with different inputs to create a dataset of CSV files.\n",
    "\n",
    "\n",
    "- Verified the information in the CSV files by reading them back using Pandas."
   ]
  },
  {
   "cell_type": "code",
   "execution_count": null,
   "id": "d9d8ad54-dd14-49b1-b6e3-4505c9cf0fed",
   "metadata": {},
   "outputs": [],
   "source": [
    "topics_df.to_csv('topics.csv', index = None)"
   ]
  },
  {
   "cell_type": "markdown",
   "id": "41fcf8e6-4b96-444d-a7ca-ae8a1b77c64f",
   "metadata": {},
   "source": [
    "## Got information out of the topic page"
   ]
  },
  {
   "cell_type": "code",
   "execution_count": null,
   "id": "6ac4361f-c85f-4eca-af60-f0e808a04206",
   "metadata": {},
   "outputs": [],
   "source": [
    "topic_page_url = 'http://books.toscrape.com/' + topic_urls[3]"
   ]
  },
  {
   "cell_type": "code",
   "execution_count": null,
   "id": "79f3660f-98d9-4865-b6a3-48542c4ec8d3",
   "metadata": {},
   "outputs": [],
   "source": [
    "topic_page_url"
   ]
  },
  {
   "cell_type": "code",
   "execution_count": null,
   "id": "4181841c-9bd9-4ad0-8c9d-f917ddd81eba",
   "metadata": {},
   "outputs": [],
   "source": [
    "response = requests.get(topic_page_url)"
   ]
  },
  {
   "cell_type": "code",
   "execution_count": null,
   "id": "f7b0c5ed-9b63-462d-98fe-c7c4713fabc5",
   "metadata": {},
   "outputs": [],
   "source": [
    "response.status_code"
   ]
  },
  {
   "cell_type": "code",
   "execution_count": null,
   "id": "0010bc08-e1f7-41be-acbc-7e32a5eaa7d3",
   "metadata": {},
   "outputs": [],
   "source": [
    "len(response.text)"
   ]
  },
  {
   "cell_type": "code",
   "execution_count": null,
   "id": "bfae459c-844b-4138-b3fd-3a6d08c5e973",
   "metadata": {},
   "outputs": [],
   "source": [
    "topic_doc = BeautifulSoup(response.text, 'html.parser')"
   ]
  },
  {
   "cell_type": "code",
   "execution_count": null,
   "id": "66690f07-cee5-465e-910d-e015de277960",
   "metadata": {},
   "outputs": [],
   "source": [
    "book_div = topic_doc.find_all('li', class_='col-xs-6 col-sm-4 col-md-3 col-lg-3')\n",
    "print(book_div)"
   ]
  },
  {
   "cell_type": "code",
   "execution_count": null,
   "id": "40ea0da1-3a03-4c99-b0ca-05862dcab95e",
   "metadata": {},
   "outputs": [],
   "source": [
    "len(book_div)"
   ]
  },
  {
   "cell_type": "code",
   "execution_count": null,
   "id": "a23d6bef-e557-4f79-8d36-edd43ba38d46",
   "metadata": {},
   "outputs": [],
   "source": [
    "book_title = []\n",
    "for container in book_div:\n",
    "    name = container.article.h3.a['title']\n",
    "    book_title.append(name)"
   ]
  },
  {
   "cell_type": "code",
   "execution_count": null,
   "id": "e41a7f41-9230-4b6f-a3cf-c0f0997c59a5",
   "metadata": {},
   "outputs": [],
   "source": [
    "book_title"
   ]
  },
  {
   "cell_type": "code",
   "execution_count": null,
   "id": "4cd99938-3136-4e06-a8a9-09463b57e4ea",
   "metadata": {},
   "outputs": [],
   "source": [
    "product_price = []\n",
    "for container in book_div:\n",
    "   price = container.article.find('div',class_='product_price').p.text\n",
    "   product_price.append(price)"
   ]
  },
  {
   "cell_type": "code",
   "execution_count": null,
   "id": "0de462a6-7e9e-446f-be53-be2fb1689025",
   "metadata": {},
   "outputs": [],
   "source": [
    "product_price"
   ]
  },
  {
   "cell_type": "code",
   "execution_count": null,
   "id": "6b8a09b2-b47d-4414-b37b-fcd8bab4467e",
   "metadata": {},
   "outputs": [],
   "source": [
    "star_rating = []\n",
    "for container in book_div:\n",
    "  rating = container.article.p['class'][-1]\n",
    "  star_rating.append(rating)"
   ]
  },
  {
   "cell_type": "code",
   "execution_count": null,
   "id": "00617c90-894c-4684-a2fa-05283e34133d",
   "metadata": {},
   "outputs": [],
   "source": [
    "star_rating"
   ]
  },
  {
   "cell_type": "code",
   "execution_count": null,
   "id": "b454c80a-ca18-4795-8f26-2d46deae934f",
   "metadata": {},
   "outputs": [],
   "source": [
    "import pandas as pd"
   ]
  },
  {
   "cell_type": "code",
   "execution_count": null,
   "id": "81998d09-a19b-4a81-846f-b0a7b17d5635",
   "metadata": {},
   "outputs": [],
   "source": [
    "col_dict = {'title':book_title, \n",
    "            'price':product_price, \n",
    "            'rating':star_rating}"
   ]
  },
  {
   "cell_type": "code",
   "execution_count": null,
   "id": "285bb5c9-3aa4-4fee-bf6d-43d070d71603",
   "metadata": {},
   "outputs": [],
   "source": [
    "book_store = pd.DataFrame(col_dict)"
   ]
  },
  {
   "cell_type": "code",
   "execution_count": null,
   "id": "4ae1a687-7bb4-4042-8c01-32854e1a9fed",
   "metadata": {},
   "outputs": [],
   "source": [
    "book_store"
   ]
  },
  {
   "cell_type": "code",
   "execution_count": null,
   "id": "d3934aa7-f5a5-4546-bf1f-54d237a54346",
   "metadata": {},
   "outputs": [],
   "source": [
    "book_store.to_csv('book_store.csv')"
   ]
  }
 ],
 "metadata": {
  "kernelspec": {
   "display_name": "Python 3 (ipykernel)",
   "language": "python",
   "name": "python3"
  },
  "language_info": {
   "codemirror_mode": {
    "name": "ipython",
    "version": 3
   },
   "file_extension": ".py",
   "mimetype": "text/x-python",
   "name": "python",
   "nbconvert_exporter": "python",
   "pygments_lexer": "ipython3",
   "version": "3.11.4"
  }
 },
 "nbformat": 4,
 "nbformat_minor": 5
}
